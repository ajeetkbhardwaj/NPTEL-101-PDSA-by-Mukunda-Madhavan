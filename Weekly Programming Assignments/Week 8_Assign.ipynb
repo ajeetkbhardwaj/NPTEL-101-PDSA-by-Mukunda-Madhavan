{
 "cells": [
  {
   "cell_type": "markdown",
   "metadata": {},
   "source": [
    "## Week 8 Programming Assignment\n",
    "> Write three Python functions as specified below. Paste the text for all three functions together into the submission window. Your function will be called automatically with various inputs and should return values as specified. Do not write commands to read any input or print any output.\n",
    "* You may define additional auxiliary functions as needed.\n",
    "* In all cases you may assume that the value passed to the function is of the expected type, so your function does not have to check for malformed inputs.\n",
    "* For each function, there are normally some public test cases and some (hidden) private test cases.\n",
    "* \"Compile and run\" will evaluate your submission against the public test cases.\n",
    "* \"Submit\" will evaluate your submission against the hidden private test cases. There are 15 private test cases, with equal weightage. You will get feedback about which private test cases pass or fail, though you cannot see the actual test cases.\n",
    "* Ignore warnings about \"Presentation errors\"."
   ]
  },
  {
   "cell_type": "code",
   "execution_count": null,
   "metadata": {},
   "outputs": [],
   "source": []
  }
 ],
 "metadata": {
  "kernelspec": {
   "display_name": "Python 3.9.0 64-bit",
   "language": "python",
   "name": "python3"
  },
  "language_info": {
   "name": "python",
   "version": "3.9.0"
  },
  "orig_nbformat": 4,
  "vscode": {
   "interpreter": {
    "hash": "0ca1e21494f276abde72cf2fd50c05de29708bdad043165f85cc051039448ce0"
   }
  }
 },
 "nbformat": 4,
 "nbformat_minor": 2
}
