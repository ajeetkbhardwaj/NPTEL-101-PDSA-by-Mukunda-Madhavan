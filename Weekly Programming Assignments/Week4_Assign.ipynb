{
 "cells": [
  {
   "cell_type": "markdown",
   "metadata": {},
   "source": [
    "## Week 4 Programming Assignment\n",
    "> Write three Python functions as specified below. Paste the text for all three functions together into the submission window. Your function will be called automatically with various inputs and should return values as specified. Do not write commands to read any input or print any output.\n",
    "* You may define additional auxiliary functions as needed.\n",
    "* In all cases you may assume that the value passed to the function is of the expected type, so your function does not have to check for malformed inputs.\n",
    "* For each function, there are normally some public test cases and some (hidden) private test cases.\n",
    "* \"Compile and run\" will evaluate your submission against the public test cases.\n",
    "* \"Submit\" will evaluate your submission against the hidden private test cases. There are 15 private test cases, with equal weightage. You will get feedback about which private test cases pass or fail, though you cannot see the actual test cases.\n",
    "* Ignore warnings about \"Presentation errors\"."
   ]
  },
  {
   "cell_type": "markdown",
   "metadata": {},
   "source": [
    "**Problem-1 :**\n",
    "> Write a Python function frequency(l) that takes as input a list of integers and returns a pair of the form (minfreqlist,maxfreqlist) where\n",
    "\n",
    "* minfreqlist is a list of numbers with minimum frequency in l, sorted in ascending order\n",
    "* maxfreqlist is a list of numbers with maximum frequency in l, sorted in ascending order"
   ]
  },
  {
   "cell_type": "code",
   "execution_count": 1,
   "metadata": {},
   "outputs": [
    {
     "data": {
      "text/plain": [
       "'  \\nHere are some examples of how your function should work.\\n\\n>>> frequency([13,12,11,13,14,13,7,11,13,14,12])\\n([7], [13])\\n\\n>>> frequency([13,12,11,13,14,13,7,11,13,14,12,14,14])\\n([7], [13, 14])\\n\\n>>> frequency([13,12,11,13,14,13,7,11,13,14,12,14,14,7])\\n([7, 11, 12], [13, 14])\\n'"
      ]
     },
     "execution_count": 1,
     "metadata": {},
     "output_type": "execute_result"
    }
   ],
   "source": [
    "\"\"\"  \n",
    "Here are some examples of how your function should work.\n",
    "\n",
    ">>> frequency([13,12,11,13,14,13,7,11,13,14,12])\n",
    "([7], [13])\n",
    "\n",
    ">>> frequency([13,12,11,13,14,13,7,11,13,14,12,14,14])\n",
    "([7], [13, 14])\n",
    "\n",
    ">>> frequency([13,12,11,13,14,13,7,11,13,14,12,14,14,7])\n",
    "([7, 11, 12], [13, 14])\n",
    "\"\"\""
   ]
  },
  {
   "cell_type": "code",
   "execution_count": 2,
   "metadata": {},
   "outputs": [],
   "source": [
    "def frequency(l):\n",
    "    SET=set(l)\n",
    "    LIST=list(SET)\n",
    "    newl=list()\n",
    "    for a in LIST:\n",
    "        newl.append(l.count(a))\n",
    "    mi=min(newl)\n",
    "    ma=max(newl)\n",
    "    mil=[]\n",
    "    mal=[]\n",
    "    for b in range(len(newl)):\n",
    "        if newl[b]==mi:\n",
    "\n",
    "             mil.append(LIST[b])\n",
    "        if newl[b]==ma:\n",
    "                    \n",
    "             mal.append(LIST[b])\n",
    "    mil.sort()\n",
    "    mal.sort()\n",
    "    return(mil,mal) "
   ]
  },
  {
   "cell_type": "markdown",
   "metadata": {},
   "source": [
    "**Problem-2 :**\n",
    "> An airline has assigned each city that it serves a unique numeric code. It has collected information about all the direct flights it operates, represented as a list of pairs of the form (i,j), where i is the code of the starting city and j is the code of the destination.\n",
    "\n",
    "> It now wants to compute all pairs of cities connected by one intermediate hope — city i is connected to city j by one intermediate hop if there are direct flights of the form (i,k) and (k,j) for some other city k. The airline is only interested in one hop flights between different cities — pairs of the form (i,i) are not useful.\n",
    "\n",
    "> Write a Python function onehop(l) that takes as input a list of pairs representing direct flights, as described above, and returns a list of all pairs (i,j), where i != j, such that i and j are connected by one hop. Note that it may already be the case that there is a direct flight from i to j. So long as there is an intermediate k with a flight from i to k and from k to j, the list returned by the function should include (i,j). The input list may be in any order. The pairs in the output list should be in lexicographic (dictionary) order. Each pair should be listed exactly once."
   ]
  },
  {
   "cell_type": "code",
   "execution_count": 3,
   "metadata": {},
   "outputs": [
    {
     "data": {
      "text/plain": [
       "'  \\nHere are some examples of how your function should work.\\n\\n \\n>>> onehop([(2,3),(1,2)])\\n[(1, 3)]\\n\\n>>> onehop([(2,3),(1,2),(3,1),(1,3),(3,2),(2,4),(4,1)])\\n[(1, 2), (1, 3), (1, 4), (2, 1), (3, 2), (3, 4), (4, 2), (4, 3)]\\n\\n>>> onehop([(1,2),(3,4),(5,6)])\\n[]\\n'"
      ]
     },
     "execution_count": 3,
     "metadata": {},
     "output_type": "execute_result"
    }
   ],
   "source": [
    "\"\"\"  \n",
    "Here are some examples of how your function should work.\n",
    "\n",
    " \n",
    ">>> onehop([(2,3),(1,2)])\n",
    "[(1, 3)]\n",
    "\n",
    ">>> onehop([(2,3),(1,2),(3,1),(1,3),(3,2),(2,4),(4,1)])\n",
    "[(1, 2), (1, 3), (1, 4), (2, 1), (3, 2), (3, 4), (4, 2), (4, 3)]\n",
    "\n",
    ">>> onehop([(1,2),(3,4),(5,6)])\n",
    "[]\n",
    "\"\"\""
   ]
  },
  {
   "cell_type": "code",
   "execution_count": null,
   "metadata": {},
   "outputs": [],
   "source": [
    "def onehop(l):\n",
    "    new=[]\n",
    "    l.sort()\n",
    "    for i in range(len(l)):\n",
    "        for j in range(len(l)):\n",
    "                if l[i]!=l[j]:\n",
    "                    if l[i][1]==l[j][0]:\n",
    "                        q=l[i][0]\n",
    "                        w=l[j][1]\n",
    "                        if q!=w:\n",
    "                            t=[q,w]\n",
    "                            t=tuple(t)\n",
    "                            if t not in new:\n",
    "                                new.append(tuple(t))\n",
    "    new.sort()\n",
    "    return (new)"
   ]
  },
  {
   "cell_type": "code",
   "execution_count": null,
   "metadata": {},
   "outputs": [],
   "source": [
    "\n",
    "import ast\n",
    "\n",
    "def parse(inp):\n",
    "  inp = ast.literal_eval(inp)\n",
    "  return (inp)\n",
    "\n",
    "fncall = input()\n",
    "lparen = fncall.find(\"(\")\n",
    "rparen = fncall.rfind(\")\")\n",
    "fname = fncall[:lparen]\n",
    "farg = fncall[lparen+1:rparen]\n",
    "\n",
    "if fname == \"frequency\":\n",
    "  arg = parse(farg)\n",
    "  print(frequency(arg))\n",
    "\n",
    "if fname == \"onehop\":\n",
    "  arg = parse(farg)\n",
    "  print(onehop(arg))\n",
    "\n"
   ]
  },
  {
   "cell_type": "markdown",
   "metadata": {},
   "source": [
    "**Sample solutions (Provided by instructor)**\n"
   ]
  },
  {
   "cell_type": "code",
   "execution_count": null,
   "metadata": {},
   "outputs": [],
   "source": [
    "def frequency(l):\n",
    "    count = {}\n",
    "    for n in l:\n",
    "        if n in count.keys():\n",
    "            count[n] = count[n]+1\n",
    "        else:\n",
    "            count[n] = 1\n",
    "    minlist = findmin(count)\n",
    "    maxlist = findmax(count)\n",
    "    return((minlist,maxlist))\n",
    "\n",
    "def findmin(d):\n",
    "    upperbound = 0\n",
    "    for n in d.keys():\n",
    "        if d[n] > upperbound:\n",
    "            upperbound = d[n]\n",
    "\n",
    "    minlist = []\n",
    "    mincount = upperbound\n",
    "\n",
    "    for n in d.keys():\n",
    "        if d[n] < mincount:\n",
    "            minlist = [n]\n",
    "            mincount = d[n]\n",
    "        elif d[n] == mincount:\n",
    "            minlist.append(n)\n",
    "    return(sorted(minlist))\n",
    "\n",
    "            \n",
    "def findmax(d):\n",
    "    maxlist = []\n",
    "    maxcount = 0\n",
    "\n",
    "    for n in d.keys():\n",
    "        if d[n] > maxcount:\n",
    "            maxlist = [n]\n",
    "            maxcount = d[n]\n",
    "        elif d[n] == maxcount:\n",
    "            maxlist.append(n)\n",
    "    return(sorted(maxlist))\n",
    "\n",
    "###################\n",
    "\n",
    "def onehop(l):\n",
    "    direct = {}\n",
    "    for (i,j) in l:\n",
    "        if i in direct.keys():\n",
    "            direct[i].append(j)\n",
    "        else:\n",
    "            direct[i] = [j]\n",
    "\n",
    "    hopping = []\n",
    "\n",
    "    for src in direct.keys():\n",
    "        for dest in direct[src]:\n",
    "            if dest in direct.keys():\n",
    "                for remote in direct[dest]:\n",
    "                    if src != remote:\n",
    "                        hopping.append((src,remote))\n",
    "\n",
    "    return(remdup(sorted(hopping)))\n",
    "            \n",
    "def remdup(l):\n",
    "    if len(l) < 2:\n",
    "        return(l)\n",
    "\n",
    "    if l[0] != l[1]:\n",
    "        return(l[0:1]+remdup(l[1:]))\n",
    "    else:\n",
    "        return(remdup(l[1:]))\n",
    "    \n",
    "###################\n",
    "\n",
    "import ast\n",
    "\n",
    "def parse(inp):\n",
    "  inp = ast.literal_eval(inp)\n",
    "  return (inp)\n",
    "\n",
    "fncall = input()\n",
    "lparen = fncall.find(\"(\")\n",
    "rparen = fncall.rfind(\")\")\n",
    "fname = fncall[:lparen]\n",
    "farg = fncall[lparen+1:rparen]\n",
    "\n",
    "if fname == \"frequency\":\n",
    "  arg = parse(farg)\n",
    "  print(frequency(arg))\n",
    "\n",
    "if fname == \"onehop\":\n",
    "  arg = parse(farg)\n",
    "  print(onehop(arg))\n",
    "\n"
   ]
  }
 ],
 "metadata": {
  "kernelspec": {
   "display_name": "Python 3.9.0 64-bit",
   "language": "python",
   "name": "python3"
  },
  "language_info": {
   "codemirror_mode": {
    "name": "ipython",
    "version": 3
   },
   "file_extension": ".py",
   "mimetype": "text/x-python",
   "name": "python",
   "nbconvert_exporter": "python",
   "pygments_lexer": "ipython3",
   "version": "3.9.0"
  },
  "orig_nbformat": 4,
  "vscode": {
   "interpreter": {
    "hash": "0ca1e21494f276abde72cf2fd50c05de29708bdad043165f85cc051039448ce0"
   }
  }
 },
 "nbformat": 4,
 "nbformat_minor": 2
}
