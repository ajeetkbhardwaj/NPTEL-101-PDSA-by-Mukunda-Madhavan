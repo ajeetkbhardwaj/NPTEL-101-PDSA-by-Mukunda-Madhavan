{
 "cells": [
  {
   "cell_type": "markdown",
   "metadata": {},
   "source": [
    "## Week 2 Programming Assignment\n",
    "> Write three Python functions as specified below. Paste the text for all three functions together into the submission window. Your function will be called automatically with various inputs and should return values as specified. Do not write commands to read any input or print any output.\n",
    "* You may define additional auxiliary functions as needed.\n",
    "* In all cases you may assume that the value passed to the function is of the expected type, so your function does not have to check for malformed inputs.\n",
    "* For each function, there are normally some public test cases and some (hidden) private test cases.\n",
    "\"Compile and run\" will evaluate your submission against the public test cases.\n",
    "* \"Submit\" will evaluate your submission against the hidden private test cases. There are 10 private test cases, with equal weightage. You will get feedback about which private test cases pass or fail, though you cannot see the actual test cases.\n",
    "* Ignore warnings about \"Presentation errors\"."
   ]
  },
  {
   "cell_type": "markdown",
   "metadata": {},
   "source": []
  },
  {
   "cell_type": "markdown",
   "metadata": {},
   "source": [
    "**Problem-1 :**\n",
    "> Write a function intreverse(n) that takes as input a positive integer n and returns the integer obtained by reversing the digits in n.\n",
    "\n",
    "Here are some examples of how your function should work.\n",
    "\n",
    "intreverse(783)\n",
    "\n",
    "Output :387\n",
    "\n",
    "intreverse(242789)\n",
    "\n",
    "Output : 987242\n",
    "\n",
    "intreverse(3)\n",
    "\n",
    "Output : 3"
   ]
  },
  {
   "cell_type": "code",
   "execution_count": 1,
   "metadata": {},
   "outputs": [],
   "source": [
    "# intraverse function for integers\n",
    "def intreverse(n):\n",
    "  reversed_n = 0\n",
    "  while n > 0:\n",
    "    (d, n) = (n%10, n//10)\n",
    "    reversed_n = 10*reversed_n + d\n",
    "  return(reversed_n)\n",
    "    "
   ]
  },
  {
   "cell_type": "markdown",
   "metadata": {},
   "source": [
    "**Problem-2 :**\n",
    "> Write a function matched(s) that takes as input a string s and checks if the brackets \"(\" and \")\" in s are matched: that is, every \"(\" has a matching \")\" after it and every \")\" has a matching \"(\" before it. Your function should ignore all other symbols that appear in s. Your function should return True if s has matched brackets and False if it does not."
   ]
  },
  {
   "cell_type": "code",
   "execution_count": 3,
   "metadata": {},
   "outputs": [],
   "source": [
    "\"\"\"  \n",
    "Here are some examples to show how your function should work.\n",
    "\n",
    ">>> matched(\"zb%78\")\n",
    "True\n",
    ">>> matched(\"(7)(a\")\n",
    "False\n",
    ">>> matched(\"a)*(?\")\n",
    "False\n",
    ">>> matched(\"((jkl)78(A)&l(8(dd(FJI:),):)?)\")\n",
    "True\n",
    "\"\"\"\n",
    "## matching string function\n",
    "def matched(s):\n",
    "  nested = 0\n",
    "  for i in range(0, len(s)):\n",
    "    if s[i] == \"(\":\n",
    "      nested = nested + 1\n",
    "    elif s[i] == \")\":\n",
    "      nested = nested - 1\n",
    "      if nested < 0:\n",
    "        return(False)\n",
    "  return(nested == 0)"
   ]
  },
  {
   "cell_type": "markdown",
   "metadata": {},
   "source": [
    "**Problem-3 :**\n",
    "> Write a function sumprimes(l) that takes as input a list of integers l and retuns the sum of all the prime numbers in l."
   ]
  },
  {
   "cell_type": "code",
   "execution_count": 4,
   "metadata": {},
   "outputs": [],
   "source": [
    "\"\"\"  \n",
    "Here are some examples to show how your function should work.\n",
    "\n",
    ">>> sumprimes([3,3,1,13])\n",
    "19\n",
    ">>> sumprimes([2,4,6,9,11])\n",
    "13\n",
    ">>> sumprimes([-3,1,6])\n",
    "0\n",
    "\"\"\"\n",
    "## factoring integer\n",
    "\n",
    "def factor(n):\n",
    "  factorlist = []\n",
    "  for i in range(1,n+1):\n",
    "    if n%i == 0:\n",
    "      factorlist.append(i)\n",
    "  return(factorlist)\n"
   ]
  },
  {
   "cell_type": "code",
   "execution_count": 5,
   "metadata": {},
   "outputs": [],
   "source": [
    "## to check prime number\n",
    "\n",
    "def isprime(n):\n",
    "  return(factor(n) == [1, n])"
   ]
  },
  {
   "cell_type": "code",
   "execution_count": 6,
   "metadata": {},
   "outputs": [],
   "source": [
    "# sum of primes\n",
    "\n",
    "def sumprimes(l):\n",
    "  sum = 0\n",
    "  for i in range(0,len(l)):\n",
    "    if isprime(l[i]):\n",
    "      sum = sum + int(l[i])\n",
    "  return(sum)"
   ]
  },
  {
   "cell_type": "code",
   "execution_count": 7,
   "metadata": {},
   "outputs": [],
   "source": [
    "import ast"
   ]
  },
  {
   "cell_type": "code",
   "execution_count": 8,
   "metadata": {},
   "outputs": [
    {
     "name": "stdout",
     "output_type": "stream",
     "text": [
      "Function 2, 3,4 ,4, unknown\n"
     ]
    }
   ],
   "source": [
    "def tolist(inp):\n",
    "  inp = \"[\"+inp+\"]\"\n",
    "  inp = ast.literal_eval(inp)\n",
    "  return (inp[0],inp[1])\n",
    "\n",
    "def parse(inp):\n",
    "  inp = ast.literal_eval(inp)\n",
    "  return (inp)\n",
    "\n",
    "fncall = input()\n",
    "lparen = fncall.find(\"(\")\n",
    "rparen = fncall.rfind(\")\")\n",
    "fname = fncall[:lparen]\n",
    "farg = fncall[lparen+1:rparen]\n",
    "\n",
    "if fname == \"intreverse\":\n",
    "   arg = parse(farg)\n",
    "   print(intreverse(arg))\n",
    "elif fname == \"matched\":\n",
    "   arg = parse(farg)\n",
    "   print(matched(arg))\n",
    "elif fname == \"sumprimes\":\n",
    "   arg = parse(farg)\n",
    "   print(sumprimes(arg))\n",
    "else:\n",
    "   print(\"Function\", fname, \"unknown\")"
   ]
  },
  {
   "cell_type": "markdown",
   "metadata": {},
   "source": [
    "**Solution by Instructor**"
   ]
  },
  {
   "cell_type": "code",
   "execution_count": null,
   "metadata": {},
   "outputs": [],
   "source": [
    "def intreverse(n):\n",
    "  ans = 0\n",
    "  while n > 0:\n",
    "    (d,n) = (n%10,n//10)\n",
    "    ans = 10*ans + d\n",
    "  return(ans)\n",
    "\n",
    "def matched(s):\n",
    "  nested = 0\n",
    "  for i in range(0,len(s)):\n",
    "    if s[i] == \"(\":\n",
    "       nested = nested+1\n",
    "    elif s[i] == \")\":\n",
    "       nested = nested-1\n",
    "       if nested < 0:\n",
    "          return(False)    \n",
    "  return(nested == 0)\n",
    "\n",
    "def factors(n):\n",
    "  factorlist = []\n",
    "  for i in range(1,n+1):\n",
    "    if n%i == 0:\n",
    "      factorlist = factorlist + [i]\n",
    "  return(factorlist)\n",
    "\n",
    "def isprime(n):\n",
    "  return(factors(n) == [1,n])\n",
    "\n",
    "\n",
    "def sumprimes(l):\n",
    "  sum = 0\n",
    "  for i in range(0,len(l)):\n",
    "    if isprime(l[i]):\n",
    "      sum = sum+l[i]\n",
    "  return(sum)\n",
    "\n",
    "\n",
    "import ast\n",
    "\n",
    "def tolist(inp):\n",
    "  inp = \"[\"+inp+\"]\"\n",
    "  inp = ast.literal_eval(inp)\n",
    "  return (inp[0],inp[1])\n",
    "\n",
    "def parse(inp):\n",
    "  inp = ast.literal_eval(inp)\n",
    "  return (inp)\n",
    "\n",
    "fncall = input()\n",
    "lparen = fncall.find(\"(\")\n",
    "rparen = fncall.rfind(\")\")\n",
    "fname = fncall[:lparen]\n",
    "farg = fncall[lparen+1:rparen]\n",
    "\n",
    "if fname == \"intreverse\":\n",
    "   arg = parse(farg)\n",
    "   print(intreverse(arg))\n",
    "elif fname == \"matched\":\n",
    "   arg = parse(farg)\n",
    "   print(matched(arg))\n",
    "elif fname == \"sumprimes\":\n",
    "   arg = parse(farg)\n",
    "   print(sumprimes(arg))\n",
    "else:\n",
    "   print(\"Function\", fname, \"unknown\")"
   ]
  }
 ],
 "metadata": {
  "kernelspec": {
   "display_name": "Python 3.9.0 64-bit",
   "language": "python",
   "name": "python3"
  },
  "language_info": {
   "codemirror_mode": {
    "name": "ipython",
    "version": 3
   },
   "file_extension": ".py",
   "mimetype": "text/x-python",
   "name": "python",
   "nbconvert_exporter": "python",
   "pygments_lexer": "ipython3",
   "version": "3.9.0"
  },
  "orig_nbformat": 4,
  "vscode": {
   "interpreter": {
    "hash": "0ca1e21494f276abde72cf2fd50c05de29708bdad043165f85cc051039448ce0"
   }
  }
 },
 "nbformat": 4,
 "nbformat_minor": 2
}
