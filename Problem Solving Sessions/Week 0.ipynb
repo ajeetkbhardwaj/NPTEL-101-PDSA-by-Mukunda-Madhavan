{
 "cells": [
  {
   "cell_type": "markdown",
   "metadata": {},
   "source": [
    "# Python 3.x, Object Oriented Programming "
   ]
  },
  {
   "cell_type": "code",
   "execution_count": 1,
   "metadata": {},
   "outputs": [
    {
     "name": "stdout",
     "output_type": "stream",
     "text": [
      "My name is Ajeet Kumar Bhardwaj\n"
     ]
    }
   ],
   "source": [
    "print(\"My name is Ajeet Kumar Bhardwaj\")\n",
    "x = 3 + 4\n",
    "y = x^8\n",
    "z = 43*x"
   ]
  },
  {
   "cell_type": "code",
   "execution_count": 6,
   "metadata": {},
   "outputs": [],
   "source": [
    "# A function h( ) that takes a numbers\n",
    "# Return the all possibe 3*d where d <= 25 s.t (d,n) = (1, 0)\n",
    "# where n is the number of steps that can be executed\n",
    "def h(x):\n",
    "    #Initialization of (d,n)\n",
    "    (d,n) = (1,0)\n",
    "    # While loop will run until the condition is true\n",
    "    while d <= x:\n",
    "        (d,n) = (d*3,n+1)\n",
    "        print((d,n))\n",
    "    return(n)\n",
    "\n",
    "#print(h(27933))"
   ]
  },
  {
   "cell_type": "code",
   "execution_count": 5,
   "metadata": {},
   "outputs": [
    {
     "name": "stdout",
     "output_type": "stream",
     "text": [
      "(3, 1)\n",
      "(9, 2)\n",
      "(27, 3)\n",
      "(81, 4)\n",
      "(243, 5)\n"
     ]
    },
    {
     "data": {
      "text/plain": [
       "5"
      ]
     },
     "execution_count": 5,
     "metadata": {},
     "output_type": "execute_result"
    }
   ],
   "source": [
    "h(100)"
   ]
  },
  {
   "cell_type": "code",
   "execution_count": 7,
   "metadata": {},
   "outputs": [
    {
     "data": {
      "text/plain": [
       "6"
      ]
     },
     "execution_count": 7,
     "metadata": {},
     "output_type": "execute_result"
    }
   ],
   "source": [
    "# Debugging of code \n",
    "\"\"\"\" \n",
    "if our code has some Visible and Non Visible errors or mistake init then we can use the debugging tools to identify and overcome those types of errors\n",
    "\n",
    "What debugging does is?\n",
    "it comes with a break point\n",
    "\n",
    "\"\"\"\n",
    "\n",
    "def g(n): \n",
    "    s=0\n",
    "    for i in range(2,n):\n",
    "        if n%i == 0:\n",
    "           s = s+1\n",
    "    return(s)\n",
    "g_60 = g(60)\n",
    "g_48 = g(48)\n",
    "g(24)\n",
    "# print(g(60) - g(48))"
   ]
  },
  {
   "cell_type": "code",
   "execution_count": 8,
   "metadata": {},
   "outputs": [],
   "source": [
    "def f(n): \n",
    "    s=0\n",
    "    for i in range(1,n+1):\n",
    "        if n//i == i and n%i == 0:\n",
    "           s = 1\n",
    "    return(s%2 == 1)\n",
    "#n/i=i\n",
    "#i*i=i^2=n\n",
    "#i=n^(1/2)"
   ]
  },
  {
   "cell_type": "code",
   "execution_count": null,
   "metadata": {},
   "outputs": [],
   "source": []
  }
 ],
 "metadata": {
  "kernelspec": {
   "display_name": "Python 3.9.0 64-bit",
   "language": "python",
   "name": "python3"
  },
  "language_info": {
   "codemirror_mode": {
    "name": "ipython",
    "version": 3
   },
   "file_extension": ".py",
   "mimetype": "text/x-python",
   "name": "python",
   "nbconvert_exporter": "python",
   "pygments_lexer": "ipython3",
   "version": "3.9.0"
  },
  "orig_nbformat": 4,
  "vscode": {
   "interpreter": {
    "hash": "0ca1e21494f276abde72cf2fd50c05de29708bdad043165f85cc051039448ce0"
   }
  }
 },
 "nbformat": 4,
 "nbformat_minor": 2
}
