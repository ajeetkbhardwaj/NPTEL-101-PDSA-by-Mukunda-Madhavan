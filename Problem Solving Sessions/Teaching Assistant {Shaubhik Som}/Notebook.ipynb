{
 "cells": [
  {
   "cell_type": "markdown",
   "metadata": {},
   "source": []
  },
  {
   "cell_type": "code",
   "execution_count": null,
   "metadata": {},
   "outputs": [],
   "source": [
    "word = abs\n",
    "\n",
    "pals = []\n",
    "\n",
    "for i in range(len(word)):\n",
    "    wf = word[i:]\n",
    "    wr = word[i-len(word):-1]\n",
    "    "
   ]
  },
  {
   "cell_type": "markdown",
   "metadata": {},
   "source": [
    "sw = sw[::-1] then it's palindrome\n",
    "example : abc[::-1] => cba\n",
    "\n",
    "REURSIVE FUNCTION\n",
    "\n",
    "How do we find the subword\n",
    "1. check word is a palindrome\n",
    "2. elif check increasing subword is a pelindrome\n",
    "3. elif check decreasing subword is a palindrome\n",
    "4. else check remaining n-2 subword is a palidrome\n"
   ]
  }
 ],
 "metadata": {
  "language_info": {
   "name": "python"
  },
  "orig_nbformat": 4
 },
 "nbformat": 4,
 "nbformat_minor": 2
}
