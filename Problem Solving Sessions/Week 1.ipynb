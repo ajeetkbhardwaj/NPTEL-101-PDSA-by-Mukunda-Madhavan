{
 "cells": [
  {
   "cell_type": "markdown",
   "metadata": {},
   "source": [
    "# Week 1 :\n",
    "## Lectures :\n",
    " * Introduction\n",
    " * Naive GCD Algorithms\n",
    " * Improving Naive algorithm\n",
    " * Euclid's algorithms\n",
    " * Downliading and installing python"
   ]
  },
  {
   "cell_type": "markdown",
   "metadata": {},
   "source": [
    "## Teaching Assistant : Pratyush V. Talreja\n",
    "* Basics of Python\n",
    "* How to define arrays, lists, tuples, dictionaries, file handling, take input from users, print outputs\n",
    "* How to format the output etc we will discuss\n",
    "* Different types of multiple algorithms will learn\n",
    "* Different Data Structures like lists, arrays , stack, queues etc\n",
    "\n",
    "*We learn how to solve any problem step by step ?*\n",
    " * Define the problems\n",
    " * Computing the problems\n",
    " * Write different versions of algorithms\n",
    " * Improve the efficiency of algorithms by using different types of data structures\n",
    " * to write optimized program"
   ]
  },
  {
   "cell_type": "markdown",
   "metadata": {},
   "source": [
    "**Problem-1 :**\n",
    "> Write a program to calculate the factorial of the positive integers"
   ]
  },
  {
   "cell_type": "code",
   "execution_count": 16,
   "metadata": {},
   "outputs": [],
   "source": [
    "def factorail(num):\n",
    "    if num == 1:\n",
    "        return(num)\n",
    "    else:\n",
    "        return(num*factorail(num-1))"
   ]
  },
  {
   "cell_type": "markdown",
   "metadata": {},
   "source": [
    "1. Prob1(5) \n",
    "   Function is called with argument as 5\n",
    "2. first conditon is false so this step will be skiped\n",
    "3. 5 * Prob1(5-1)\n",
    "*  5 * 4 * Prob1(4-1)\n",
    "*  5 * 4 * 3 * Prob1(3-1)\n",
    "*  5 * 4 * 3 * 2 * Prob1(2-1) = 120\n",
    "   now condition first is satified thus after execution it will exit process\n",
    "\n"
   ]
  },
  {
   "cell_type": "code",
   "execution_count": 2,
   "metadata": {},
   "outputs": [
    {
     "data": {
      "text/plain": [
       "295232799039604140847618609643520000000"
      ]
     },
     "execution_count": 2,
     "metadata": {},
     "output_type": "execute_result"
    }
   ],
   "source": [
    "factorail(34)\n"
   ]
  },
  {
   "cell_type": "code",
   "execution_count": 18,
   "metadata": {},
   "outputs": [
    {
     "name": "stdout",
     "output_type": "stream",
     "text": [
      "402387260077093773543702433923003985719374864210714632543799910429938512398629020592044208486969404800479988610197196058631666872994808558901323829669944590997424504087073759918823627727188732519779505950995276120874975462497043601418278094646496291056393887437886487337119181045825783647849977012476632889835955735432513185323958463075557409114262417474349347553428646576611667797396668820291207379143853719588249808126867838374559731746136085379534524221586593201928090878297308431392844403281231558611036976801357304216168747609675871348312025478589320767169132448426236131412508780208000261683151027341827977704784635868170164365024153691398281264810213092761244896359928705114964975419909342221566832572080821333186116811553615836546984046708975602900950537616475847728421889679646244945160765353408198901385442487984959953319101723355556602139450399736280750137837615307127761926849034352625200015888535147331611702103968175921510907788019393178114194545257223865541461062892187960223838971476088506276862967146674697562911234082439208160153780889893964518263243671616762179168909779911903754031274622289988005195444414282012187361745992642956581746628302955570299024324153181617210465832036786906117260158783520751516284225540265170483304226143974286933061690897968482590125458327168226458066526769958652682272807075781391858178889652208164348344825993266043367660176999612831860788386150279465955131156552036093988180612138558600301435694527224206344631797460594682573103790084024432438465657245014402821885252470935190620929023136493273497565513958720559654228749774011413346962715422845862377387538230483865688976461927383814900140767310446640259899490222221765904339901886018566526485061799702356193897017860040811889729918311021171229845901641921068884387121855646124960798722908519296819372388642614839657382291123125024186649353143970137428531926649875337218940694281434118520158014123344828015051399694290153483077644569099073152433278288269864602789864321139083506217095002597389863554277196742822248757586765752344220207573630569498825087968928162753848863396909959826280956121450994871701244516461260379029309120889086942028510640182154399457156805941872748998094254742173582401063677404595741785160829230135358081840096996372524230560855903700624271243416909004153690105933983835777939410970027753472000000000000000000000000000000000000000000000000000000000000000000000000000000000000000000000000000000000000000000000000000000000000000000000000000000000000000000000000000000000000000000000000000000000000000000000000000000000000000000000000000000000\n"
     ]
    }
   ],
   "source": [
    "factorail(1)\n",
    "print(factorail(1000))"
   ]
  },
  {
   "cell_type": "markdown",
   "metadata": {},
   "source": [
    "**Problem-2 :**\n",
    ">"
   ]
  },
  {
   "cell_type": "code",
   "execution_count": 4,
   "metadata": {},
   "outputs": [],
   "source": [
    "def Prob2(str):\n",
    "    for i in \"?,!,.\":\n",
    "        str = str.replace(i, \"\")\n",
    "        words = str.split(\" \")\n",
    "    AvgLen = round(sum(len(word) for word in words), 2)\n",
    "    return(AvgLen)"
   ]
  },
  {
   "cell_type": "code",
   "execution_count": 5,
   "metadata": {},
   "outputs": [
    {
     "data": {
      "text/plain": [
       "81"
      ]
     },
     "execution_count": 5,
     "metadata": {},
     "output_type": "execute_result"
    }
   ],
   "source": [
    "Prob2(\"Rabindra you are the one whom i totally attached to, becouse the span of time that we spent togather.\")"
   ]
  },
  {
   "cell_type": "code",
   "execution_count": 6,
   "metadata": {},
   "outputs": [
    {
     "data": {
      "text/plain": [
       "168"
      ]
     },
     "execution_count": 6,
     "metadata": {},
     "output_type": "execute_result"
    }
   ],
   "source": [
    "Prob2(\"To Start Learn to code there will be first step to learn programming then learn data structures and in the last learn about algorithms.Now,you are able to solve computational problems via investing time.\")"
   ]
  },
  {
   "cell_type": "markdown",
   "metadata": {},
   "source": [
    "**Problem-3 :**\n",
    ">"
   ]
  },
  {
   "cell_type": "code",
   "execution_count": 20,
   "metadata": {},
   "outputs": [],
   "source": [
    "def Prob3(str):\n",
    "    frequency = {}\n",
    "    for i in str:\n",
    "        if i not in frequency:\n",
    "            frequency[i] = 1\n",
    "        else:\n",
    "            frequency[i] += 1\n",
    "    for i in range(len(str)):\n",
    "        if frequency[str[i] == 1]:\n",
    "            return i\n",
    "    return -1"
   ]
  },
  {
   "cell_type": "code",
   "execution_count": 21,
   "metadata": {},
   "outputs": [
    {
     "ename": "KeyError",
     "evalue": "False",
     "output_type": "error",
     "traceback": [
      "\u001b[1;31m---------------------------------------------------------------------------\u001b[0m",
      "\u001b[1;31mKeyError\u001b[0m                                  Traceback (most recent call last)",
      "\u001b[1;32m<ipython-input-21-cdee48964b0e>\u001b[0m in \u001b[0;36m<module>\u001b[1;34m\u001b[0m\n\u001b[1;32m----> 1\u001b[1;33m \u001b[0mProb3\u001b[0m\u001b[1;33m(\u001b[0m\u001b[1;34m\"elephant\"\u001b[0m\u001b[1;33m)\u001b[0m\u001b[1;33m\u001b[0m\u001b[1;33m\u001b[0m\u001b[0m\n\u001b[0m",
      "\u001b[1;32m<ipython-input-20-4cb6a5eec685>\u001b[0m in \u001b[0;36mProb3\u001b[1;34m(str)\u001b[0m\n\u001b[0;32m      7\u001b[0m             \u001b[0mfrequency\u001b[0m\u001b[1;33m[\u001b[0m\u001b[0mi\u001b[0m\u001b[1;33m]\u001b[0m \u001b[1;33m+=\u001b[0m \u001b[1;36m1\u001b[0m\u001b[1;33m\u001b[0m\u001b[1;33m\u001b[0m\u001b[0m\n\u001b[0;32m      8\u001b[0m     \u001b[1;32mfor\u001b[0m \u001b[0mi\u001b[0m \u001b[1;32min\u001b[0m \u001b[0mrange\u001b[0m\u001b[1;33m(\u001b[0m\u001b[0mlen\u001b[0m\u001b[1;33m(\u001b[0m\u001b[0mstr\u001b[0m\u001b[1;33m)\u001b[0m\u001b[1;33m)\u001b[0m\u001b[1;33m:\u001b[0m\u001b[1;33m\u001b[0m\u001b[1;33m\u001b[0m\u001b[0m\n\u001b[1;32m----> 9\u001b[1;33m         \u001b[1;32mif\u001b[0m \u001b[0mfrequency\u001b[0m\u001b[1;33m[\u001b[0m\u001b[0mstr\u001b[0m\u001b[1;33m[\u001b[0m\u001b[0mi\u001b[0m\u001b[1;33m]\u001b[0m \u001b[1;33m==\u001b[0m \u001b[1;36m1\u001b[0m\u001b[1;33m]\u001b[0m\u001b[1;33m:\u001b[0m\u001b[1;33m\u001b[0m\u001b[1;33m\u001b[0m\u001b[0m\n\u001b[0m\u001b[0;32m     10\u001b[0m             \u001b[1;32mreturn\u001b[0m \u001b[0mi\u001b[0m\u001b[1;33m\u001b[0m\u001b[1;33m\u001b[0m\u001b[0m\n\u001b[0;32m     11\u001b[0m     \u001b[1;32mreturn\u001b[0m \u001b[1;33m-\u001b[0m\u001b[1;36m1\u001b[0m\u001b[1;33m\u001b[0m\u001b[1;33m\u001b[0m\u001b[0m\n",
      "\u001b[1;31mKeyError\u001b[0m: False"
     ]
    }
   ],
   "source": [
    "Prob3(\"elephant\")"
   ]
  },
  {
   "cell_type": "markdown",
   "metadata": {},
   "source": [
    "**Problem-4 :**\n",
    ">"
   ]
  },
  {
   "cell_type": "code",
   "execution_count": 11,
   "metadata": {},
   "outputs": [],
   "source": [
    "def Prob4(n):\n",
    "    prime_numbers = []\n",
    "    for num in range(n):\n",
    "        if num > 1:\n",
    "            for i in range(2, num):\n",
    "                if (num%i) == 0:\n",
    "                    break\n",
    "            else:\n",
    "                prime_numbers.append(num)\n",
    "                \n",
    "    return prime_numbers"
   ]
  },
  {
   "cell_type": "code",
   "execution_count": 12,
   "metadata": {},
   "outputs": [
    {
     "data": {
      "text/plain": [
       "[2, 3, 5, 7, 11, 13, 17, 19]"
      ]
     },
     "execution_count": 12,
     "metadata": {},
     "output_type": "execute_result"
    }
   ],
   "source": [
    "Prob4(23)"
   ]
  },
  {
   "cell_type": "markdown",
   "metadata": {},
   "source": [
    "**Problem-5 :**\n",
    ">"
   ]
  },
  {
   "cell_type": "code",
   "execution_count": 13,
   "metadata": {},
   "outputs": [],
   "source": [
    "def Prob5(inp):\n",
    "    for i in range(len(inp)):\n",
    "        for j in range(0, len(inp)-i-1):\n",
    "            if inp[j] > inp[j+1]:\n",
    "                (inp[j],inp[j+1]) = (inp[j+1],inp[j])\n",
    "    return inp\n",
    "                "
   ]
  },
  {
   "cell_type": "code",
   "execution_count": 14,
   "metadata": {},
   "outputs": [
    {
     "data": {
      "text/plain": [
       "[1, 2, 3, 3, 3, 3, 4, 4, 5]"
      ]
     },
     "execution_count": 14,
     "metadata": {},
     "output_type": "execute_result"
    }
   ],
   "source": [
    "ilist = [3,3,4,5,4,3,2,1,3]\n",
    "Prob5(ilist)"
   ]
  },
  {
   "cell_type": "markdown",
   "metadata": {},
   "source": [
    "## Teaching Assistant : Shaubhik Som"
   ]
  },
  {
   "cell_type": "markdown",
   "metadata": {},
   "source": [
    "**Problem-1 :**\n",
    "> What does h(27993) return for the following function definition?"
   ]
  },
  {
   "cell_type": "code",
   "execution_count": 22,
   "metadata": {},
   "outputs": [],
   "source": [
    "def h(x):\n",
    "    (d,n) = (1,0)\n",
    "    while d <= x:\n",
    "        (d,n) = (d*3,n+1)\n",
    "    return(n)"
   ]
  },
  {
   "cell_type": "code",
   "execution_count": 23,
   "metadata": {},
   "outputs": [
    {
     "name": "stdout",
     "output_type": "stream",
     "text": [
      "10\n"
     ]
    }
   ],
   "source": [
    "print(h(27933))"
   ]
  },
  {
   "cell_type": "markdown",
   "metadata": {},
   "source": [
    "**Problem-2 :**\n",
    "> What is g(60) - g(48), given the definition of g below?"
   ]
  },
  {
   "cell_type": "code",
   "execution_count": 26,
   "metadata": {},
   "outputs": [
    {
     "name": "stdout",
     "output_type": "stream",
     "text": [
      "2\n"
     ]
    }
   ],
   "source": [
    "def g(n): \n",
    "    s=0\n",
    "    for i in range(2,n):\n",
    "        if n%i == 0:\n",
    "           s = s+1\n",
    "    return(s)\n",
    "g_60 = g(60)\n",
    "g_48 = g(48)\n",
    "print(g_60 -g_48)"
   ]
  },
  {
   "cell_type": "code",
   "execution_count": 28,
   "metadata": {},
   "outputs": [
    {
     "name": "stdout",
     "output_type": "stream",
     "text": [
      "8\n",
      "10\n"
     ]
    }
   ],
   "source": [
    "print(g(48))\n",
    "print(g(60))"
   ]
  },
  {
   "cell_type": "markdown",
   "metadata": {},
   "source": [
    "**Problem-3 :**\n",
    "> The function f(n) given above returns True for a positive number n if and only if:\n",
    "\n",
    " * n is an odd number.\n",
    " * n is a prime number.\n",
    " * n is a perfect square.\n",
    " * n is a composite number"
   ]
  },
  {
   "cell_type": "code",
   "execution_count": 37,
   "metadata": {},
   "outputs": [],
   "source": [
    "def f(n): \n",
    "    s=0\n",
    "    for i in range(1,n+1):\n",
    "        if n//i == i and n%i == 0:\n",
    "           s = 1\n",
    "    return(s%2 == 1)\n"
   ]
  },
  {
   "cell_type": "code",
   "execution_count": 42,
   "metadata": {},
   "outputs": [
    {
     "data": {
      "text/plain": [
       "False"
      ]
     },
     "execution_count": 42,
     "metadata": {},
     "output_type": "execute_result"
    }
   ],
   "source": [
    "\n",
    "f(30)"
   ]
  },
  {
   "cell_type": "markdown",
   "metadata": {},
   "source": [
    "**Problem- 4:**\n",
    "> Which of the following is correct?\n",
    " * The function always terminates with foo(n) = factorial of n\n",
    " * The function always terminates with foo(n) = n(n+1)/2\n",
    " * The function terminates for non­negative n with foo(n) = factorial of n\n",
    " * The function terminates for non­negative n with foo(n) = n(n+1)/2\n"
   ]
  },
  {
   "cell_type": "code",
   "execution_count": 39,
   "metadata": {},
   "outputs": [],
   "source": [
    "def foo(m):\n",
    "    if m == 0:\n",
    "      return(0)\n",
    "    else:\n",
    "      return(m+foo(m-1))"
   ]
  },
  {
   "cell_type": "markdown",
   "metadata": {},
   "source": [
    "* 1st m=5, 5+mys(5-1)\n",
    "* 2nd m=4, 4+mys(4-1)\n",
    "* 3rd m=3, 3+mys(3-1)\n",
    "....\n",
    "* n-1th m=2, 2+mys(2-1)\n",
    "* n th  m=1, 1+mys(1-1)=1+0=1"
   ]
  },
  {
   "cell_type": "code",
   "execution_count": 40,
   "metadata": {},
   "outputs": [
    {
     "data": {
      "text/plain": [
       "15"
      ]
     },
     "execution_count": 40,
     "metadata": {},
     "output_type": "execute_result"
    }
   ],
   "source": [
    "foo(5)"
   ]
  },
  {
   "cell_type": "markdown",
   "metadata": {},
   "source": [
    "**Problem-5 :**\n",
    ">"
   ]
  },
  {
   "cell_type": "markdown",
   "metadata": {},
   "source": [
    "## Teaching Assistant : Javesh Dixit\n"
   ]
  },
  {
   "cell_type": "code",
   "execution_count": 6,
   "metadata": {},
   "outputs": [
    {
     "data": {
      "application/pdf": "[encoded data removed]"
     },
     "metadata": {},
     "output_type": "display_data"
    }
   ],
   "source": [
    "from IPython.display import display_pdf\n",
    "filename = \"Week 1.pdf\"\n",
    "with open(filename, \"rb\") as f:\n",
    "    display_pdf(f.read(),raw=True)"
   ]
  },
  {
   "cell_type": "markdown",
   "metadata": {},
   "source": [
    "**Problem-1 :**\n",
    "> Pimality Test"
   ]
  },
  {
   "cell_type": "code",
   "execution_count": 43,
   "metadata": {},
   "outputs": [],
   "source": [
    "def prime_num(N):\n",
    "  '''\n",
    "  integers below or equal to one are out of scope \n",
    "  for the definition of prime numbers.\n",
    "  '''\n",
    "\n",
    "  if(N<=1):\n",
    "    return False\n",
    "   \n",
    "  #using most basic algorithm\n",
    "  for i in range(2,N):\n",
    "    #if divisible by i, then n is not a prime number.\n",
    "    if(N%i==0):\n",
    "      return False\n",
    "   \n",
    "  #otherwise, N is prime number.\n",
    "  return True"
   ]
  },
  {
   "cell_type": "code",
   "execution_count": 44,
   "metadata": {},
   "outputs": [
    {
     "name": "stdout",
     "output_type": "stream",
     "text": [
      "2\n",
      "3\n",
      "5\n",
      "7\n",
      "11\n",
      "13\n",
      "17\n",
      "19\n",
      "23\n",
      "29\n",
      "31\n",
      "37\n",
      "41\n",
      "43\n",
      "47\n",
      "0.0019965171813964844\n"
     ]
    }
   ],
   "source": [
    "import time\n",
    "\n",
    "st = time.time()\n",
    "# num = int(input(\"Input the value of N:\"  ));\n",
    "num = 50\n",
    "#checking for all number: 1 to num\n",
    "for i in range(1,num+1):\n",
    "  #if i is prime\n",
    "  if(prime_num(i)):\n",
    "    print(i)\n",
    "et = time.time()\n",
    "print(et-st)\n",
    "    # print(i ,end=\" \")"
   ]
  },
  {
   "cell_type": "markdown",
   "metadata": {},
   "source": [
    "**Problem-2 :**\n",
    "> Cubic sum of digits"
   ]
  },
  {
   "cell_type": "code",
   "execution_count": 45,
   "metadata": {},
   "outputs": [
    {
     "data": {
      "text/plain": [
       "370"
      ]
     },
     "execution_count": 45,
     "metadata": {},
     "output_type": "execute_result"
    }
   ],
   "source": [
    "def exponent(x, y):\n",
    "     \n",
    "    if y == 0:\n",
    "        return 1\n",
    "    if y % 2 == 0:\n",
    "        return exponent(x, y // 2) * exponent(x, y // 2)\n",
    "         \n",
    "    return x * exponent(x, y // 2) * exponent(x, y // 2)\n",
    "##\n",
    "## We can also use an inbuilt function for exponent(x, y), i.e. pow(x, y): students should try it.\n",
    "##\n",
    "def CubicSumDigits(num):\n",
    "    if type(num)!=int or num<0:\n",
    "        return print('!!! Please Provide a valid integer')\n",
    "    cube_sum_digits = 0\n",
    "\n",
    "    while num > 0:\n",
    "        mod = num%10\n",
    "        cube_sum_digits = cube_sum_digits + exponent(mod, 3)\n",
    "        num = num//10\n",
    "\n",
    "    return cube_sum_digits\n",
    "\n",
    "CubicSumDigits(370)"
   ]
  },
  {
   "cell_type": "markdown",
   "metadata": {},
   "source": [
    "**Problem-3 :**\n",
    "> Extension of above problem"
   ]
  },
  {
   "cell_type": "code",
   "execution_count": 46,
   "metadata": {},
   "outputs": [
    {
     "name": "stdout",
     "output_type": "stream",
     "text": [
      "5\n",
      "Is 12 an Armstrong number? False\n"
     ]
    },
    {
     "data": {
      "text/plain": [
       "(None, None)"
      ]
     },
     "execution_count": 46,
     "metadata": {},
     "output_type": "execute_result"
    }
   ],
   "source": [
    "def len_num(num):\n",
    " \n",
    "    # Variable to store of the number\n",
    "    n = 0\n",
    "    while (num != 0):\n",
    "        n = n + 1\n",
    "        num = num // 10\n",
    "         \n",
    "    return n\n",
    "\n",
    "def LenExpoSumDigits(num):\n",
    "    if type(num)!=int or num<0:\n",
    "        return print('!!! Please Provide a valid integer')\n",
    "    cube_sum_digits = 0\n",
    "    length_num = len_num(num)\n",
    "    n = num\n",
    "    while n > 0:\n",
    "        mod = n%10\n",
    "        cube_sum_digits = cube_sum_digits + exponent(mod, length_num)\n",
    "        n = n//10\n",
    "\n",
    "    return (print(cube_sum_digits), print('Is {} an Armstrong number?'.format(num), cube_sum_digits == num))\n",
    "\n",
    "LenExpoSumDigits(12) ## 0, 1, 153, 370, 371, 407, 1634, 8208, 9474 etc."
   ]
  },
  {
   "cell_type": "markdown",
   "metadata": {},
   "source": [
    "**Problem-4 :**\n",
    "> Counting zeros in n!"
   ]
  },
  {
   "cell_type": "code",
   "execution_count": 51,
   "metadata": {},
   "outputs": [
    {
     "name": "stdout",
     "output_type": "stream",
     "text": [
      "!!! Please Provide a valid integer\n",
      "0\n",
      "1\n",
      "2\n",
      "24\n"
     ]
    }
   ],
   "source": [
    "def ZerosInFact(num):\n",
    "    if num<5 and num>=0:\n",
    "        return 0\n",
    "    elif type(num)!=int or num<0:\n",
    "        return ('!!! Please Provide a valid integer')\n",
    "    count = 0\n",
    "    while num>=5:\n",
    "        num = int(num/5) ## or n//5\n",
    "        count = count + num\n",
    "    return count\n",
    "\n",
    "print(ZerosInFact(-2))\n",
    "print(ZerosInFact(4))\n",
    "print(ZerosInFact(5))\n",
    "print(ZerosInFact(10))\n",
    "print(ZerosInFact(100))\n",
    "\n"
   ]
  },
  {
   "cell_type": "markdown",
   "metadata": {},
   "source": [
    "**Problem-5 :**\n",
    "> Number of days in February"
   ]
  },
  {
   "cell_type": "code",
   "execution_count": 52,
   "metadata": {},
   "outputs": [
    {
     "data": {
      "text/plain": [
       "'This year has 28 days in February'"
      ]
     },
     "execution_count": 52,
     "metadata": {},
     "output_type": "execute_result"
    }
   ],
   "source": [
    "def leap_noleap(n):    \n",
    "    # no_of_days_noleap = [31, 28, 31, 30, 31, 30, 31, 31, 30, 31, 30, 31]\n",
    "    # no_of_days_leap = [31, 29, 31, 30, 31, 30, 31, 31, 30, 31, 30, 31]\n",
    "\n",
    "    feb_no_of_days = None\n",
    "\n",
    "    if type(n)!=int or n<0:\n",
    "        return ('!!! Please provide a valid year')\n",
    "    \n",
    "    if (n%4 == 0 and n%100 != 0) or (n%400==0):\n",
    "        feb_no_of_days = 29\n",
    "    else:\n",
    "        feb_no_of_days = 28\n",
    "    return ('This year has {} days in February'.format(feb_no_of_days))\n",
    "\n",
    "leap_noleap(2100)"
   ]
  },
  {
   "cell_type": "code",
   "execution_count": 53,
   "metadata": {},
   "outputs": [
    {
     "name": "stdout",
     "output_type": "stream",
     "text": [
      "1896 : This year has 29 days in February\n",
      "1897 : This year has 28 days in February\n",
      "1898 : This year has 28 days in February\n",
      "1899 : This year has 28 days in February\n",
      "1900 : This year has 28 days in February\n",
      "1901 : This year has 28 days in February\n",
      "1902 : This year has 28 days in February\n",
      "1903 : This year has 28 days in February\n",
      "1904 : This year has 29 days in February\n",
      "1905 : This year has 28 days in February\n",
      "1906 : This year has 28 days in February\n",
      "1907 : This year has 28 days in February\n",
      "1908 : This year has 29 days in February\n",
      "1909 : This year has 28 days in February\n",
      "1910 : This year has 28 days in February\n",
      "1911 : This year has 28 days in February\n",
      "1912 : This year has 29 days in February\n",
      "1913 : This year has 28 days in February\n",
      "1914 : This year has 28 days in February\n",
      "1915 : This year has 28 days in February\n",
      "1916 : This year has 29 days in February\n",
      "1917 : This year has 28 days in February\n",
      "1918 : This year has 28 days in February\n",
      "1919 : This year has 28 days in February\n",
      "1920 : This year has 29 days in February\n",
      "1921 : This year has 28 days in February\n",
      "1922 : This year has 28 days in February\n",
      "1923 : This year has 28 days in February\n",
      "1924 : This year has 29 days in February\n",
      "1925 : This year has 28 days in February\n",
      "1926 : This year has 28 days in February\n",
      "1927 : This year has 28 days in February\n",
      "1928 : This year has 29 days in February\n",
      "1929 : This year has 28 days in February\n",
      "1930 : This year has 28 days in February\n",
      "1931 : This year has 28 days in February\n",
      "1932 : This year has 29 days in February\n",
      "1933 : This year has 28 days in February\n",
      "1934 : This year has 28 days in February\n",
      "1935 : This year has 28 days in February\n",
      "1936 : This year has 29 days in February\n",
      "1937 : This year has 28 days in February\n",
      "1938 : This year has 28 days in February\n",
      "1939 : This year has 28 days in February\n",
      "1940 : This year has 29 days in February\n",
      "1941 : This year has 28 days in February\n",
      "1942 : This year has 28 days in February\n",
      "1943 : This year has 28 days in February\n",
      "1944 : This year has 29 days in February\n",
      "1945 : This year has 28 days in February\n",
      "1946 : This year has 28 days in February\n",
      "1947 : This year has 28 days in February\n",
      "1948 : This year has 29 days in February\n",
      "1949 : This year has 28 days in February\n",
      "1950 : This year has 28 days in February\n",
      "1951 : This year has 28 days in February\n",
      "1952 : This year has 29 days in February\n",
      "1953 : This year has 28 days in February\n",
      "1954 : This year has 28 days in February\n",
      "1955 : This year has 28 days in February\n",
      "1956 : This year has 29 days in February\n",
      "1957 : This year has 28 days in February\n",
      "1958 : This year has 28 days in February\n",
      "1959 : This year has 28 days in February\n",
      "1960 : This year has 29 days in February\n",
      "1961 : This year has 28 days in February\n",
      "1962 : This year has 28 days in February\n",
      "1963 : This year has 28 days in February\n",
      "1964 : This year has 29 days in February\n",
      "1965 : This year has 28 days in February\n",
      "1966 : This year has 28 days in February\n",
      "1967 : This year has 28 days in February\n",
      "1968 : This year has 29 days in February\n",
      "1969 : This year has 28 days in February\n",
      "1970 : This year has 28 days in February\n",
      "1971 : This year has 28 days in February\n",
      "1972 : This year has 29 days in February\n",
      "1973 : This year has 28 days in February\n",
      "1974 : This year has 28 days in February\n",
      "1975 : This year has 28 days in February\n",
      "1976 : This year has 29 days in February\n",
      "1977 : This year has 28 days in February\n",
      "1978 : This year has 28 days in February\n",
      "1979 : This year has 28 days in February\n",
      "1980 : This year has 29 days in February\n",
      "1981 : This year has 28 days in February\n",
      "1982 : This year has 28 days in February\n",
      "1983 : This year has 28 days in February\n",
      "1984 : This year has 29 days in February\n",
      "1985 : This year has 28 days in February\n",
      "1986 : This year has 28 days in February\n",
      "1987 : This year has 28 days in February\n",
      "1988 : This year has 29 days in February\n",
      "1989 : This year has 28 days in February\n",
      "1990 : This year has 28 days in February\n",
      "1991 : This year has 28 days in February\n",
      "1992 : This year has 29 days in February\n",
      "1993 : This year has 28 days in February\n",
      "1994 : This year has 28 days in February\n",
      "1995 : This year has 28 days in February\n",
      "1996 : This year has 29 days in February\n",
      "1997 : This year has 28 days in February\n",
      "1998 : This year has 28 days in February\n",
      "1999 : This year has 28 days in February\n",
      "2000 : This year has 29 days in February\n",
      "2001 : This year has 28 days in February\n",
      "2002 : This year has 28 days in February\n",
      "2003 : This year has 28 days in February\n",
      "2004 : This year has 29 days in February\n",
      "2005 : This year has 28 days in February\n",
      "2006 : This year has 28 days in February\n",
      "2007 : This year has 28 days in February\n",
      "2008 : This year has 29 days in February\n",
      "2009 : This year has 28 days in February\n",
      "2010 : This year has 28 days in February\n",
      "2011 : This year has 28 days in February\n",
      "2012 : This year has 29 days in February\n",
      "2013 : This year has 28 days in February\n",
      "2014 : This year has 28 days in February\n",
      "2015 : This year has 28 days in February\n",
      "2016 : This year has 29 days in February\n",
      "2017 : This year has 28 days in February\n",
      "2018 : This year has 28 days in February\n",
      "2019 : This year has 28 days in February\n",
      "2020 : This year has 29 days in February\n",
      "2021 : This year has 28 days in February\n",
      "2022 : This year has 28 days in February\n",
      "2023 : This year has 28 days in February\n",
      "2024 : This year has 29 days in February\n",
      "2025 : This year has 28 days in February\n",
      "2026 : This year has 28 days in February\n",
      "2027 : This year has 28 days in February\n",
      "2028 : This year has 29 days in February\n",
      "2029 : This year has 28 days in February\n",
      "2030 : This year has 28 days in February\n",
      "2031 : This year has 28 days in February\n",
      "2032 : This year has 29 days in February\n",
      "2033 : This year has 28 days in February\n",
      "2034 : This year has 28 days in February\n",
      "2035 : This year has 28 days in February\n",
      "2036 : This year has 29 days in February\n",
      "2037 : This year has 28 days in February\n",
      "2038 : This year has 28 days in February\n",
      "2039 : This year has 28 days in February\n",
      "2040 : This year has 29 days in February\n",
      "2041 : This year has 28 days in February\n",
      "2042 : This year has 28 days in February\n",
      "2043 : This year has 28 days in February\n",
      "2044 : This year has 29 days in February\n",
      "2045 : This year has 28 days in February\n",
      "2046 : This year has 28 days in February\n",
      "2047 : This year has 28 days in February\n",
      "2048 : This year has 29 days in February\n",
      "2049 : This year has 28 days in February\n",
      "2050 : This year has 28 days in February\n",
      "2051 : This year has 28 days in February\n",
      "2052 : This year has 29 days in February\n",
      "2053 : This year has 28 days in February\n",
      "2054 : This year has 28 days in February\n",
      "2055 : This year has 28 days in February\n",
      "2056 : This year has 29 days in February\n",
      "2057 : This year has 28 days in February\n",
      "2058 : This year has 28 days in February\n",
      "2059 : This year has 28 days in February\n",
      "2060 : This year has 29 days in February\n",
      "2061 : This year has 28 days in February\n",
      "2062 : This year has 28 days in February\n",
      "2063 : This year has 28 days in February\n",
      "2064 : This year has 29 days in February\n",
      "2065 : This year has 28 days in February\n",
      "2066 : This year has 28 days in February\n",
      "2067 : This year has 28 days in February\n",
      "2068 : This year has 29 days in February\n",
      "2069 : This year has 28 days in February\n",
      "2070 : This year has 28 days in February\n",
      "2071 : This year has 28 days in February\n",
      "2072 : This year has 29 days in February\n",
      "2073 : This year has 28 days in February\n",
      "2074 : This year has 28 days in February\n",
      "2075 : This year has 28 days in February\n",
      "2076 : This year has 29 days in February\n",
      "2077 : This year has 28 days in February\n",
      "2078 : This year has 28 days in February\n",
      "2079 : This year has 28 days in February\n",
      "2080 : This year has 29 days in February\n",
      "2081 : This year has 28 days in February\n",
      "2082 : This year has 28 days in February\n",
      "2083 : This year has 28 days in February\n",
      "2084 : This year has 29 days in February\n",
      "2085 : This year has 28 days in February\n",
      "2086 : This year has 28 days in February\n",
      "2087 : This year has 28 days in February\n",
      "2088 : This year has 29 days in February\n",
      "2089 : This year has 28 days in February\n",
      "2090 : This year has 28 days in February\n",
      "2091 : This year has 28 days in February\n",
      "2092 : This year has 29 days in February\n",
      "2093 : This year has 28 days in February\n",
      "2094 : This year has 28 days in February\n",
      "2095 : This year has 28 days in February\n",
      "2096 : This year has 29 days in February\n",
      "2097 : This year has 28 days in February\n",
      "2098 : This year has 28 days in February\n",
      "2099 : This year has 28 days in February\n",
      "2100 : This year has 28 days in February\n",
      "2101 : This year has 28 days in February\n",
      "2102 : This year has 28 days in February\n",
      "2103 : This year has 28 days in February\n",
      "2104 : This year has 29 days in February\n",
      "2105 : This year has 28 days in February\n",
      "2106 : This year has 28 days in February\n",
      "2107 : This year has 28 days in February\n",
      "2108 : This year has 29 days in February\n",
      "2109 : This year has 28 days in February\n",
      "2110 : This year has 28 days in February\n",
      "2111 : This year has 28 days in February\n",
      "2112 : This year has 29 days in February\n",
      "2113 : This year has 28 days in February\n",
      "2114 : This year has 28 days in February\n",
      "2115 : This year has 28 days in February\n",
      "2116 : This year has 29 days in February\n",
      "2117 : This year has 28 days in February\n",
      "2118 : This year has 28 days in February\n",
      "2119 : This year has 28 days in February\n",
      "2120 : This year has 29 days in February\n",
      "2121 : This year has 28 days in February\n",
      "2122 : This year has 28 days in February\n",
      "2123 : This year has 28 days in February\n",
      "2124 : This year has 29 days in February\n",
      "2125 : This year has 28 days in February\n",
      "2126 : This year has 28 days in February\n",
      "2127 : This year has 28 days in February\n",
      "2128 : This year has 29 days in February\n",
      "2129 : This year has 28 days in February\n",
      "2130 : This year has 28 days in February\n",
      "2131 : This year has 28 days in February\n",
      "2132 : This year has 29 days in February\n",
      "2133 : This year has 28 days in February\n",
      "2134 : This year has 28 days in February\n",
      "2135 : This year has 28 days in February\n",
      "2136 : This year has 29 days in February\n",
      "2137 : This year has 28 days in February\n",
      "2138 : This year has 28 days in February\n",
      "2139 : This year has 28 days in February\n",
      "2140 : This year has 29 days in February\n",
      "2141 : This year has 28 days in February\n",
      "2142 : This year has 28 days in February\n",
      "2143 : This year has 28 days in February\n",
      "2144 : This year has 29 days in February\n",
      "2145 : This year has 28 days in February\n",
      "2146 : This year has 28 days in February\n",
      "2147 : This year has 28 days in February\n",
      "2148 : This year has 29 days in February\n",
      "2149 : This year has 28 days in February\n",
      "2150 : This year has 28 days in February\n",
      "2151 : This year has 28 days in February\n",
      "2152 : This year has 29 days in February\n",
      "2153 : This year has 28 days in February\n",
      "2154 : This year has 28 days in February\n",
      "2155 : This year has 28 days in February\n",
      "2156 : This year has 29 days in February\n",
      "2157 : This year has 28 days in February\n",
      "2158 : This year has 28 days in February\n",
      "2159 : This year has 28 days in February\n",
      "2160 : This year has 29 days in February\n",
      "2161 : This year has 28 days in February\n",
      "2162 : This year has 28 days in February\n",
      "2163 : This year has 28 days in February\n",
      "2164 : This year has 29 days in February\n",
      "2165 : This year has 28 days in February\n",
      "2166 : This year has 28 days in February\n",
      "2167 : This year has 28 days in February\n",
      "2168 : This year has 29 days in February\n",
      "2169 : This year has 28 days in February\n",
      "2170 : This year has 28 days in February\n",
      "2171 : This year has 28 days in February\n",
      "2172 : This year has 29 days in February\n",
      "2173 : This year has 28 days in February\n",
      "2174 : This year has 28 days in February\n",
      "2175 : This year has 28 days in February\n",
      "2176 : This year has 29 days in February\n",
      "2177 : This year has 28 days in February\n",
      "2178 : This year has 28 days in February\n",
      "2179 : This year has 28 days in February\n",
      "2180 : This year has 29 days in February\n",
      "2181 : This year has 28 days in February\n",
      "2182 : This year has 28 days in February\n",
      "2183 : This year has 28 days in February\n",
      "2184 : This year has 29 days in February\n",
      "2185 : This year has 28 days in February\n",
      "2186 : This year has 28 days in February\n",
      "2187 : This year has 28 days in February\n",
      "2188 : This year has 29 days in February\n",
      "2189 : This year has 28 days in February\n",
      "2190 : This year has 28 days in February\n",
      "2191 : This year has 28 days in February\n",
      "2192 : This year has 29 days in February\n",
      "2193 : This year has 28 days in February\n",
      "2194 : This year has 28 days in February\n",
      "2195 : This year has 28 days in February\n",
      "2196 : This year has 29 days in February\n",
      "2197 : This year has 28 days in February\n",
      "2198 : This year has 28 days in February\n",
      "2199 : This year has 28 days in February\n",
      "2200 : This year has 28 days in February\n",
      "2201 : This year has 28 days in February\n",
      "2202 : This year has 28 days in February\n",
      "2203 : This year has 28 days in February\n",
      "2204 : This year has 29 days in February\n",
      "2205 : This year has 28 days in February\n",
      "2206 : This year has 28 days in February\n",
      "2207 : This year has 28 days in February\n",
      "2208 : This year has 29 days in February\n",
      "2209 : This year has 28 days in February\n",
      "2210 : This year has 28 days in February\n",
      "2211 : This year has 28 days in February\n",
      "2212 : This year has 29 days in February\n",
      "2213 : This year has 28 days in February\n",
      "2214 : This year has 28 days in February\n",
      "2215 : This year has 28 days in February\n",
      "2216 : This year has 29 days in February\n",
      "2217 : This year has 28 days in February\n",
      "2218 : This year has 28 days in February\n",
      "2219 : This year has 28 days in February\n",
      "2220 : This year has 29 days in February\n",
      "2221 : This year has 28 days in February\n",
      "2222 : This year has 28 days in February\n",
      "2223 : This year has 28 days in February\n",
      "2224 : This year has 29 days in February\n",
      "2225 : This year has 28 days in February\n",
      "2226 : This year has 28 days in February\n",
      "2227 : This year has 28 days in February\n",
      "2228 : This year has 29 days in February\n",
      "2229 : This year has 28 days in February\n",
      "2230 : This year has 28 days in February\n",
      "2231 : This year has 28 days in February\n",
      "2232 : This year has 29 days in February\n",
      "2233 : This year has 28 days in February\n",
      "2234 : This year has 28 days in February\n",
      "2235 : This year has 28 days in February\n",
      "2236 : This year has 29 days in February\n",
      "2237 : This year has 28 days in February\n",
      "2238 : This year has 28 days in February\n",
      "2239 : This year has 28 days in February\n",
      "2240 : This year has 29 days in February\n",
      "2241 : This year has 28 days in February\n",
      "2242 : This year has 28 days in February\n",
      "2243 : This year has 28 days in February\n",
      "2244 : This year has 29 days in February\n",
      "2245 : This year has 28 days in February\n",
      "2246 : This year has 28 days in February\n",
      "2247 : This year has 28 days in February\n",
      "2248 : This year has 29 days in February\n",
      "2249 : This year has 28 days in February\n",
      "2250 : This year has 28 days in February\n",
      "2251 : This year has 28 days in February\n",
      "2252 : This year has 29 days in February\n",
      "2253 : This year has 28 days in February\n",
      "2254 : This year has 28 days in February\n",
      "2255 : This year has 28 days in February\n",
      "2256 : This year has 29 days in February\n",
      "2257 : This year has 28 days in February\n",
      "2258 : This year has 28 days in February\n",
      "2259 : This year has 28 days in February\n",
      "2260 : This year has 29 days in February\n",
      "2261 : This year has 28 days in February\n",
      "2262 : This year has 28 days in February\n",
      "2263 : This year has 28 days in February\n",
      "2264 : This year has 29 days in February\n",
      "2265 : This year has 28 days in February\n",
      "2266 : This year has 28 days in February\n",
      "2267 : This year has 28 days in February\n",
      "2268 : This year has 29 days in February\n",
      "2269 : This year has 28 days in February\n",
      "2270 : This year has 28 days in February\n",
      "2271 : This year has 28 days in February\n",
      "2272 : This year has 29 days in February\n",
      "2273 : This year has 28 days in February\n",
      "2274 : This year has 28 days in February\n",
      "2275 : This year has 28 days in February\n",
      "2276 : This year has 29 days in February\n",
      "2277 : This year has 28 days in February\n",
      "2278 : This year has 28 days in February\n",
      "2279 : This year has 28 days in February\n",
      "2280 : This year has 29 days in February\n",
      "2281 : This year has 28 days in February\n",
      "2282 : This year has 28 days in February\n",
      "2283 : This year has 28 days in February\n",
      "2284 : This year has 29 days in February\n",
      "2285 : This year has 28 days in February\n",
      "2286 : This year has 28 days in February\n",
      "2287 : This year has 28 days in February\n",
      "2288 : This year has 29 days in February\n",
      "2289 : This year has 28 days in February\n",
      "2290 : This year has 28 days in February\n",
      "2291 : This year has 28 days in February\n",
      "2292 : This year has 29 days in February\n",
      "2293 : This year has 28 days in February\n",
      "2294 : This year has 28 days in February\n",
      "2295 : This year has 28 days in February\n",
      "2296 : This year has 29 days in February\n",
      "2297 : This year has 28 days in February\n",
      "2298 : This year has 28 days in February\n",
      "2299 : This year has 28 days in February\n",
      "2300 : This year has 28 days in February\n",
      "2301 : This year has 28 days in February\n",
      "2302 : This year has 28 days in February\n",
      "2303 : This year has 28 days in February\n",
      "2304 : This year has 29 days in February\n",
      "2305 : This year has 28 days in February\n",
      "2306 : This year has 28 days in February\n",
      "2307 : This year has 28 days in February\n",
      "2308 : This year has 29 days in February\n",
      "2309 : This year has 28 days in February\n",
      "2310 : This year has 28 days in February\n",
      "2311 : This year has 28 days in February\n",
      "2312 : This year has 29 days in February\n",
      "2313 : This year has 28 days in February\n",
      "2314 : This year has 28 days in February\n",
      "2315 : This year has 28 days in February\n",
      "2316 : This year has 29 days in February\n",
      "2317 : This year has 28 days in February\n",
      "2318 : This year has 28 days in February\n",
      "2319 : This year has 28 days in February\n",
      "2320 : This year has 29 days in February\n",
      "2321 : This year has 28 days in February\n",
      "2322 : This year has 28 days in February\n",
      "2323 : This year has 28 days in February\n",
      "2324 : This year has 29 days in February\n",
      "2325 : This year has 28 days in February\n",
      "2326 : This year has 28 days in February\n",
      "2327 : This year has 28 days in February\n",
      "2328 : This year has 29 days in February\n",
      "2329 : This year has 28 days in February\n",
      "2330 : This year has 28 days in February\n",
      "2331 : This year has 28 days in February\n",
      "2332 : This year has 29 days in February\n",
      "2333 : This year has 28 days in February\n",
      "2334 : This year has 28 days in February\n",
      "2335 : This year has 28 days in February\n",
      "2336 : This year has 29 days in February\n",
      "2337 : This year has 28 days in February\n",
      "2338 : This year has 28 days in February\n",
      "2339 : This year has 28 days in February\n",
      "2340 : This year has 29 days in February\n",
      "2341 : This year has 28 days in February\n",
      "2342 : This year has 28 days in February\n",
      "2343 : This year has 28 days in February\n",
      "2344 : This year has 29 days in February\n",
      "2345 : This year has 28 days in February\n",
      "2346 : This year has 28 days in February\n",
      "2347 : This year has 28 days in February\n",
      "2348 : This year has 29 days in February\n",
      "2349 : This year has 28 days in February\n",
      "2350 : This year has 28 days in February\n",
      "2351 : This year has 28 days in February\n",
      "2352 : This year has 29 days in February\n",
      "2353 : This year has 28 days in February\n",
      "2354 : This year has 28 days in February\n",
      "2355 : This year has 28 days in February\n",
      "2356 : This year has 29 days in February\n",
      "2357 : This year has 28 days in February\n",
      "2358 : This year has 28 days in February\n",
      "2359 : This year has 28 days in February\n",
      "2360 : This year has 29 days in February\n",
      "2361 : This year has 28 days in February\n",
      "2362 : This year has 28 days in February\n",
      "2363 : This year has 28 days in February\n",
      "2364 : This year has 29 days in February\n",
      "2365 : This year has 28 days in February\n",
      "2366 : This year has 28 days in February\n",
      "2367 : This year has 28 days in February\n",
      "2368 : This year has 29 days in February\n",
      "2369 : This year has 28 days in February\n",
      "2370 : This year has 28 days in February\n",
      "2371 : This year has 28 days in February\n",
      "2372 : This year has 29 days in February\n",
      "2373 : This year has 28 days in February\n",
      "2374 : This year has 28 days in February\n",
      "2375 : This year has 28 days in February\n",
      "2376 : This year has 29 days in February\n",
      "2377 : This year has 28 days in February\n",
      "2378 : This year has 28 days in February\n",
      "2379 : This year has 28 days in February\n",
      "2380 : This year has 29 days in February\n",
      "2381 : This year has 28 days in February\n",
      "2382 : This year has 28 days in February\n",
      "2383 : This year has 28 days in February\n",
      "2384 : This year has 29 days in February\n",
      "2385 : This year has 28 days in February\n",
      "2386 : This year has 28 days in February\n",
      "2387 : This year has 28 days in February\n",
      "2388 : This year has 29 days in February\n",
      "2389 : This year has 28 days in February\n",
      "2390 : This year has 28 days in February\n",
      "2391 : This year has 28 days in February\n",
      "2392 : This year has 29 days in February\n",
      "2393 : This year has 28 days in February\n",
      "2394 : This year has 28 days in February\n",
      "2395 : This year has 28 days in February\n",
      "2396 : This year has 29 days in February\n",
      "2397 : This year has 28 days in February\n",
      "2398 : This year has 28 days in February\n",
      "2399 : This year has 28 days in February\n",
      "number of leap years between 1896-2399: 122 number of no-leap years between 1896-2399: 382\n"
     ]
    }
   ],
   "source": [
    "count_leap = 0\n",
    "count_noleap = 0\n",
    "for i in range (1896, 2400):\n",
    "    print (i,':', leap_noleap(i))\n",
    "    if leap_noleap(i) == 'This year has 29 days in February':\n",
    "        count_leap +=1\n",
    "    if leap_noleap(i) == 'This year has 28 days in February':\n",
    "        count_noleap +=1\n",
    "print('number of leap years between 1896-2399:', count_leap, 'number of no-leap years between 1896-2399:', count_noleap)"
   ]
  },
  {
   "cell_type": "code",
   "execution_count": 54,
   "metadata": {},
   "outputs": [],
   "source": [
    "def prime_num(N):\n",
    "  '''integers below or equal to one are out of scope \n",
    "  for the definition of prime numbers.'''\n",
    "\n",
    "  if(N<=1):\n",
    "    return False\n",
    "   \n",
    "  #using Eratosthenes algorithm\n",
    "  for i in range(2,int(N**(1/2))+1):\n",
    "    #if divisible by i, then n is not a prime number.\n",
    "    if(N%i==0):\n",
    "      return False\n",
    "   \n",
    "  #otherwise, N is prime number.\n",
    "  return True"
   ]
  },
  {
   "cell_type": "code",
   "execution_count": 56,
   "metadata": {},
   "outputs": [
    {
     "name": "stdout",
     "output_type": "stream",
     "text": [
      "2\n",
      "3\n",
      "5\n",
      "7\n",
      "11\n",
      "13\n",
      "17\n",
      "19\n",
      "23\n",
      "29\n",
      "31\n",
      "37\n",
      "41\n",
      "43\n",
      "47\n",
      "0.0009953975677490234\n"
     ]
    }
   ],
   "source": [
    "\n",
    "import time\n",
    "\n",
    "st = time.time()\n",
    "# num = int(input(\"Input the value of N:\"  ));\n",
    "num = 50\n",
    "#checking for all number: 1 to num\n",
    "for i in range(1,num+1):\n",
    "  #if i is prime\n",
    "  if(prime_num(i)):\n",
    "    print(i)\n",
    "et = time.time()\n",
    "print(et-st)\n",
    "    # print(i ,end=\" \")"
   ]
  }
 ],
 "metadata": {
  "kernelspec": {
   "display_name": "Python 3.9.0 64-bit",
   "language": "python",
   "name": "python3"
  },
  "language_info": {
   "codemirror_mode": {
    "name": "ipython",
    "version": 3
   },
   "file_extension": ".py",
   "mimetype": "text/x-python",
   "name": "python",
   "nbconvert_exporter": "python",
   "pygments_lexer": "ipython3",
   "version": "3.9.0"
  },
  "orig_nbformat": 4,
  "vscode": {
   "interpreter": {
    "hash": "0ca1e21494f276abde72cf2fd50c05de29708bdad043165f85cc051039448ce0"
   }
  }
 },
 "nbformat": 4,
 "nbformat_minor": 2
}
