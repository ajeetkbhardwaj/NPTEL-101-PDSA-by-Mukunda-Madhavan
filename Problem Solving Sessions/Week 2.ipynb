{
 "cells": [
  {
   "cell_type": "markdown",
   "metadata": {},
   "source": [
    "# Week 2\n",
    "## Lectures : \n",
    "* Assignment statement, basic types - int, float, bool etc.\n",
    "* Strings\n",
    "* Lists\n",
    "* Control Flow\n",
    "* Functions\n",
    "* Examples "
   ]
  },
  {
   "cell_type": "markdown",
   "metadata": {},
   "source": [
    "## Teaching Assistant : Pratyush V. Talreja"
   ]
  },
  {
   "cell_type": "markdown",
   "metadata": {},
   "source": [
    "**Problem-1 :**\n",
    "> Write a program to print the following pattern using control flow statement\n",
    "\n"
   ]
  },
  {
   "cell_type": "code",
   "execution_count": 2,
   "metadata": {},
   "outputs": [
    {
     "name": "stdout",
     "output_type": "stream",
     "text": [
      "*\n",
      "**\n",
      "***\n",
      "****\n",
      "*****\n",
      "******\n",
      "*******\n",
      "********\n",
      "*********\n"
     ]
    }
   ],
   "source": [
    "\"\"\" \n",
    "Pattern will be :\n",
    " *\n",
    " **\n",
    " ***\n",
    " ****\n",
    " *****\n",
    " ******\n",
    " *******\n",
    " ********\n",
    " *********\n",
    "\n",
    "\"\"\"\n",
    "\n",
    "for i in range(9):\n",
    "    for j in range(i + 1):\n",
    "        print('*', end = '')\n",
    "    print()    "
   ]
  },
  {
   "cell_type": "markdown",
   "metadata": {},
   "source": [
    "**Problem-2 :**\n",
    "> Write a program to print the following pattern using control flow statement."
   ]
  },
  {
   "cell_type": "code",
   "execution_count": 8,
   "metadata": {},
   "outputs": [
    {
     "name": "stdout",
     "output_type": "stream",
     "text": [
      "      \n",
      "     \n",
      "    * \n",
      "   * * \n",
      "  * * * \n",
      " * * * * \n"
     ]
    }
   ],
   "source": [
    "\"\"\" \n",
    "          *\n",
    "        *   *\n",
    "     *    *    *\n",
    "   *   *    *    *\n",
    " *   *   *     *   *\n",
    "    \n",
    "\n",
    "\"\"\"\n",
    "\n",
    "for i in range(6, 0, -1):\n",
    "    for k in range(i):\n",
    "        print(end = ' ')\n",
    "    for j in range(5-i):\n",
    "        print('*', end = ' ')\n",
    "    print()\n",
    "    \n",
    "    \n",
    "\n",
    "\n"
   ]
  },
  {
   "cell_type": "markdown",
   "metadata": {},
   "source": [
    "**Problem-3 :**\n",
    ">"
   ]
  },
  {
   "cell_type": "code",
   "execution_count": 9,
   "metadata": {},
   "outputs": [],
   "source": [
    "\"\"\" \n",
    " *   *   *     *   *\n",
    "   *   *    *    *\n",
    "    *    *    *\n",
    "       *   *\n",
    "         *\n",
    "\"\"\"\n",
    "for i in range(6, 0, 1): \n",
    "    for k in range(i):\n",
    "        print(end = ' ')\n",
    "    for j in range(5+i):\n",
    "        print('*', end = ' ')\n",
    "    print()"
   ]
  },
  {
   "cell_type": "markdown",
   "metadata": {},
   "source": [
    "**Problem-4 :**"
   ]
  },
  {
   "cell_type": "code",
   "execution_count": null,
   "metadata": {},
   "outputs": [],
   "source": [
    "\"\"\" \n",
    " * * * * *\n",
    "   * * * *\n",
    "     * * *\n",
    "       * *\n",
    "         *\n",
    "\"\"\""
   ]
  },
  {
   "cell_type": "markdown",
   "metadata": {},
   "source": [
    "**Problem-5 :**"
   ]
  },
  {
   "cell_type": "code",
   "execution_count": null,
   "metadata": {},
   "outputs": [],
   "source": [
    "\"\"\" \n",
    "         *\n",
    "       * *\n",
    "     * * *\n",
    "   * * * *\n",
    " * * * * *\n",
    "    \n",
    "\n",
    "\"\"\""
   ]
  },
  {
   "cell_type": "markdown",
   "metadata": {},
   "source": [
    "**Problem-6 :**\n",
    "> Write a program to check if the given sting is palindrome\n",
    "> Input : rotator\n",
    "> Output : The given string is a palindrome\n",
    "> Input : python\n",
    "> Output : The given string is not a palindrome"
   ]
  },
  {
   "cell_type": "code",
   "execution_count": null,
   "metadata": {},
   "outputs": [],
   "source": []
  },
  {
   "cell_type": "markdown",
   "metadata": {},
   "source": [
    "**Problem-7 :**\n",
    "> Write a program to check if the two strings are rotationally equivalent\n",
    "> Input: str1 = ‘coding’ and str2 = ‘odingc’\n",
    "> Output: Yes\n",
    "> Input: str1 = ‘world’ and str2 = ‘owrld’\n",
    "> Output: No\n"
   ]
  },
  {
   "cell_type": "markdown",
   "metadata": {},
   "source": [
    "**Problem-8 :**\n",
    "> Write a program to find the strongest neighbors\n",
    "> Input: [1, 3, 2, 4, 5]\n",
    "> Output: 3 3 4 5\n"
   ]
  },
  {
   "cell_type": "markdown",
   "metadata": {},
   "source": [
    "**Problem-9 :**\n",
    ">  Write a program to print all the combinations of a list with 3 elements \n",
    "> Input: [‘a’, ‘b’, ‘c’] \n",
    "> Output:|a b c|\n",
    "         |a c b|\n",
    "         |b a c|\n",
    "         |b c a|\n",
    "         |c a b|\n",
    "         |c b a|"
   ]
  },
  {
   "cell_type": "code",
   "execution_count": null,
   "metadata": {},
   "outputs": [],
   "source": []
  },
  {
   "cell_type": "code",
   "execution_count": null,
   "metadata": {},
   "outputs": [],
   "source": []
  },
  {
   "cell_type": "markdown",
   "metadata": {},
   "source": [
    "## Teaching Assistant : Jivesh Dixit"
   ]
  },
  {
   "cell_type": "markdown",
   "metadata": {},
   "source": [
    "**Problem-1 :**\n",
    "> Calculate the weighted average of elemenets in a list."
   ]
  },
  {
   "cell_type": "code",
   "execution_count": null,
   "metadata": {},
   "outputs": [],
   "source": [
    "def norm_weights(weights):\n",
    "\n",
    "    weights_sum = 0\n",
    "    for i in range(len(weights)):\n",
    "        if type(weights[i]) != int and type(weights[i]) != float:\n",
    "            return('!!! Please input correct datatype')\n",
    "        weights_sum = weights_sum + weights[i]\n",
    "    return [i/weights_sum for i in weights]\n",
    "\n",
    "def weighted_avg(lst, weights):\n",
    "    weights = norm_weights(weights)\n",
    "    assert len(weights) == len(lst)\n",
    "    weighted_sum = 0\n",
    "    for i in range(len(lst)):\n",
    "        if type(lst[i]) != int and type(lst[i]) != float:\n",
    "            return('!!! Please input correct datatype')\n",
    "        weighted_sum = weighted_sum + lst[i]*weights[i]\n",
    "    return weighted_sum/len(lst)\n",
    "\n",
    "def unweighted_avg(lst):\n",
    "    # weights = norm_weights(weights)\n",
    "    # assert len(weights) == len(lst)\n",
    "    unweighted_sum = 0\n",
    "    for i in range(len(lst)):\n",
    "        if type(lst[i]) != int and type(lst[i]) != float:\n",
    "            return('!!! Please input correct datatype')\n",
    "        unweighted_sum = unweighted_sum + lst[i]\n",
    "    return unweighted_sum/len(lst)"
   ]
  },
  {
   "cell_type": "code",
   "execution_count": null,
   "metadata": {},
   "outputs": [],
   "source": [
    "lst_1 = [3.86, -16, 167, 32, -99, complex('83+24j')]\n",
    "lst_2 = [3.86, -16, 167, 32, -99, '83']\n",
    "lst_3 = [3.86, -16, 167, 32, -99, 83]\n",
    "weights = [1, 2, 3, 4, 5, 6]\n",
    "\n",
    "weighted_avg(lst_3, weights), unweighted_avg(lst_3)\n",
    "# norm_weights(weights)"
   ]
  },
  {
   "cell_type": "code",
   "execution_count": null,
   "metadata": {},
   "outputs": [],
   "source": [
    "lst_input = input('Enter elements of a list separated by comma: ')\n",
    "weights_input = input('Enter elements of a weights separated by comma: ')\n",
    "print(\"\\n\")\n",
    "lst = lst_input.split(',')\n",
    "weights = weights_input.split(',')\n",
    "\n",
    "for i in range(len(lst)):\n",
    "    # convert each item to int type\n",
    "    lst[i] = float(lst[i])\n",
    "    weights[i] = float(weights[i])\n",
    "\n"
   ]
  },
  {
   "cell_type": "code",
   "execution_count": null,
   "metadata": {},
   "outputs": [],
   "source": [
    "weighted_avg(lst, weights), unweighted_avg(lst)"
   ]
  },
  {
   "cell_type": "markdown",
   "metadata": {},
   "source": [
    "**Problem-2 :**\n",
    "> 1. Checking if the reverse of string is same as the string.\n",
    "> 2. Reversing words in a string."
   ]
  },
  {
   "cell_type": "code",
   "execution_count": null,
   "metadata": {},
   "outputs": [],
   "source": [
    "def check_rev(string):\n",
    "    if type(string)!=str:\n",
    "        return('!! Enter a valid input')\n",
    "    return string == string[::-1]   ## string[::-1]"
   ]
  },
  {
   "cell_type": "code",
   "execution_count": null,
   "metadata": {},
   "outputs": [],
   "source": [
    "check_rev('nan')"
   ]
  },
  {
   "cell_type": "code",
   "execution_count": null,
   "metadata": {},
   "outputs": [],
   "source": [
    "def rev_string_1(string):\n",
    "    ## Verifying the input type\n",
    "    if type(string)!=str:\n",
    "        return('!! Provide a valid input')\n",
    "    ## spliting string by spaces and storing them into a list 's' in reverse order [::-1] ([start:stop:step]) is same as [-1::-1].\n",
    "    s = string.split()[::-1]\n",
    "    ## joining all the elements of the list with space in between to get the reversed string\n",
    "    return(\" \".join(s))"
   ]
  },
  {
   "cell_type": "code",
   "execution_count": null,
   "metadata": {},
   "outputs": [],
   "source": [
    "rev_string_1(\"we have tutorial for our course every friday\")"
   ]
  },
  {
   "cell_type": "code",
   "execution_count": null,
   "metadata": {},
   "outputs": [],
   "source": [
    "def rev_string_2(string):\n",
    "    if type(string)!=str:\n",
    "        return('!! Provide a valid input')\n",
    "    s = string.split()\n",
    "    l = []\n",
    "    for i in s:\n",
    "        ## reversing every element of 's' and storing to a new list 'l'.\n",
    "        l.append(i[::-1])\n",
    "    return(\" \".join(l))"
   ]
  },
  {
   "cell_type": "code",
   "execution_count": null,
   "metadata": {},
   "outputs": [],
   "source": [
    "def rev_string_3(string):\n",
    "    if type(string)!=str:\n",
    "        return('!! Provide a valid input')\n",
    "    s = string.split()[::-1]\n",
    "    l = []\n",
    "    for i in s:\n",
    "        ## reversing every element of 's' and storing to a new list 'l'.\n",
    "        l.append(i[::-1])\n",
    "    return(\" \".join(l))"
   ]
  },
  {
   "cell_type": "code",
   "execution_count": null,
   "metadata": {},
   "outputs": [],
   "source": [
    "## \"we have tutorial for our course every friday\"\n",
    "\n",
    "string = input('Input the desired string: ')\n",
    "rev_string_1(string), rev_string_2(string)"
   ]
  },
  {
   "cell_type": "markdown",
   "metadata": {},
   "source": [
    "**Problem-3 :**\n",
    "> Remove any empty sequence in a given list."
   ]
  },
  {
   "cell_type": "code",
   "execution_count": null,
   "metadata": {},
   "outputs": [],
   "source": [
    "def remove_empty_seq(lst):\n",
    "    if type(lst) != list:\n",
    "        return(\"!! Provide a valid input\")\n",
    "    for i in lst[:]:\n",
    "        if (type(i) == list) or (type(i) == str) or (type(i) == tuple):\n",
    "            if len(i) == 0:\n",
    "                lst.remove(i)\n",
    "    return lst"
   ]
  },
  {
   "cell_type": "code",
   "execution_count": null,
   "metadata": {},
   "outputs": [],
   "source": [
    "remove_empty_seq(['', 4, 7.4, 'drt84', complex('4+5j'), (), '', 'gfq7', []])"
   ]
  },
  {
   "cell_type": "code",
   "execution_count": null,
   "metadata": {},
   "outputs": [],
   "source": [
    "len(())"
   ]
  },
  {
   "cell_type": "markdown",
   "metadata": {},
   "source": [
    "## Teaching Assistant : Shaubhik Som"
   ]
  },
  {
   "cell_type": "markdown",
   "metadata": {},
   "source": [
    "**Problem-1 :**"
   ]
  },
  {
   "cell_type": "code",
   "execution_count": null,
   "metadata": {},
   "outputs": [],
   "source": [
    "#%%\n",
    "def intreverse(n):\n",
    "    n_str=str(n)\n",
    "    n_rev=int(n_str[::-1])\n",
    "    return n_rev\n",
    "\n",
    "print(intreverse('987'))"
   ]
  },
  {
   "cell_type": "markdown",
   "metadata": {},
   "source": [
    "**Problem-2 :**\n"
   ]
  },
  {
   "cell_type": "code",
   "execution_count": null,
   "metadata": {},
   "outputs": [],
   "source": [
    "def matched(s):\n",
    "    if \"(\" and \")\" not in s:\n",
    "        return True\n",
    "    if (s.count('(')!= s.count(')')):\n",
    "        return(False)\n",
    "    else:\n",
    "        forward, reverse=0,0\n",
    "        for num, i in enumerate(s):\n",
    "            if i==')' and (forward)==0:\n",
    "                return(False)\n",
    "                break\n",
    "            elif i=='(':\n",
    "                forward+=1\n",
    "            elif i==')':\n",
    "                reverse-=1\n",
    "                if len(forward)==len(reverse):\n",
    "                    forward, reverse=0,0\n",
    "                    if num==len(s)-1:\n",
    "                        return True \n",
    "\n",
    "print(matched(\"15ababa.agaga[][[[\"))"
   ]
  },
  {
   "cell_type": "markdown",
   "metadata": {},
   "source": [
    "**Problem-3 :**"
   ]
  },
  {
   "cell_type": "code",
   "execution_count": null,
   "metadata": {},
   "outputs": [],
   "source": [
    "def sumprimes(l):\n",
    "    primes=[]\n",
    "    for num in l:\n",
    "        if num==2: primes.append(2)\n",
    "    for i in l:\n",
    "        if i>1:\n",
    "            for j in range(2,i):\n",
    "                if i%j==0:\n",
    "                    break\n",
    "                elif j==i-1: primes.append(i)\n",
    "    return sum(primes)\n",
    "\n",
    "print(sumprimes([2,4,5,6,7,7,-3,1]))"
   ]
  },
  {
   "cell_type": "markdown",
   "metadata": {},
   "source": [
    "**Problem-4 :**\n",
    "\n"
   ]
  },
  {
   "cell_type": "code",
   "execution_count": null,
   "metadata": {},
   "outputs": [],
   "source": [
    "\"\"\"\n",
    "A positive integer m can be expresseed as the sum of three squares if \n",
    "it is of the form p + q + r where p, q, r ≥ 0, and p, q, r are all \n",
    "perfect squares. For instance, 2 can be written as 0+1+1 but 7 \n",
    "cannot be expressed as the sum of three squares. The first numbers \n",
    "that cannot be expressed as the sum of three squares are 7, 15, 23, \n",
    "28, 31, 39, 47, 55, 60, 63, 71, … (see Legendre's three-square theorem).\n",
    "\n",
    "Write a Python function threesquares(m) that takes an integer \n",
    "m as input and returns True if m can be expressed as the sum \n",
    "of three squares and False otherwise. (If m is not positive, \n",
    "your function should return False.)\n",
    "\"\"\"\n",
    "def threesquares(m):\n",
    "    if m<0:\n",
    "        return False\n",
    "    for a in range(0,m+1):\n",
    "        for b in range (0,m+1):\n",
    "            n = 4**a*(8*b + 7) #from Legendre's three-square theorem\n",
    "            if n==m:\n",
    "                return False\n",
    "    return True\n",
    "\n",
    "print(threesquares(56))"
   ]
  },
  {
   "cell_type": "markdown",
   "metadata": {},
   "source": [
    "**Problem-5 :**\n"
   ]
  },
  {
   "cell_type": "code",
   "execution_count": null,
   "metadata": {},
   "outputs": [],
   "source": [
    "\"\"\"\n",
    "Write a function repfree(s) that takes as input a string s and \n",
    "checks whether any character appears more than once. The function \n",
    "should return True if there are no repetitions and False otherwise.\n",
    "\"\"\"\n",
    "def repfree(s):\n",
    "    char_list=[]\n",
    "    for i in s:\n",
    "        if i not in char_list:\n",
    "            char_list.append(i)\n",
    "        else: return (False)\n",
    "    return (True)\n",
    "\n",
    "print(repfree(\"qwerty!@#2\"))\n",
    "print(repfree(\"(x+6)(y-5)\"))\n",
    "print(repfree(\"94templars\"))\n",
    "print(repfree(\"siruseri\"))"
   ]
  },
  {
   "cell_type": "markdown",
   "metadata": {},
   "source": [
    "**Problem-6 :**\n"
   ]
  },
  {
   "cell_type": "code",
   "execution_count": null,
   "metadata": {},
   "outputs": [],
   "source": [
    "\"\"\"\n",
    "A list of numbers is said to be a hill if it consists of an ascending\n",
    " sequence followed by a descending sequence, where each of the \n",
    " sequences is of length at least two. Similarly, a list of numbers \n",
    " is said to be a valley if it consists of an descending sequence \n",
    " followed by an ascending sequence. You can assume that consecutive\n",
    " numbers in the input sequence are always different from each other.\n",
    "\n",
    "Write a Python function hillvalley(l) that takes a list l of \n",
    "integers and returns True if it is a hill or a valley, and False \n",
    "otherwise.\n",
    "\"\"\"\n",
    "def hillvalley(l):\n",
    "    hc,vc=0,0\n",
    "    for i in range(len(l)-1):\n",
    "        if 0<i:\n",
    "            if l[i-1]<l[i]>l[i+1]:\n",
    "                hc+=1\n",
    "            elif l[i-1]>l[i]<l[i+1]:\n",
    "                vc+=1\n",
    "    if hc==1 and vc==0:\n",
    "        return (True)\n",
    "    elif hc==0 and vc==1:\n",
    "        return (True)\n",
    "    else:\n",
    "        return (False)\n",
    "\n",
    "print(hillvalley([1,2,3,5,4,3,2,1]))\n",
    "print(hillvalley([1,2,3,4,5,3,2,4,5,3,2,1]))\n",
    "print(hillvalley([9,5,4,-1,-2,3,7]))\n",
    "print(hillvalley([5,4,3,2,1,0,-1,-2,-3]))\n"
   ]
  }
 ],
 "metadata": {
  "kernelspec": {
   "display_name": "Python 3.9.0 64-bit",
   "language": "python",
   "name": "python3"
  },
  "language_info": {
   "codemirror_mode": {
    "name": "ipython",
    "version": 3
   },
   "file_extension": ".py",
   "mimetype": "text/x-python",
   "name": "python",
   "nbconvert_exporter": "python",
   "pygments_lexer": "ipython3",
   "version": "3.9.0"
  },
  "orig_nbformat": 4,
  "vscode": {
   "interpreter": {
    "hash": "0ca1e21494f276abde72cf2fd50c05de29708bdad043165f85cc051039448ce0"
   }
  }
 },
 "nbformat": 4,
 "nbformat_minor": 2
}
